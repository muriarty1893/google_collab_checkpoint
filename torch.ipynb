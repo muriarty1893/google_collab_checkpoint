{
  "nbformat": 4,
  "nbformat_minor": 0,
  "metadata": {
    "colab": {
      "provenance": [],
      "gpuType": "T4",
      "authorship_tag": "ABX9TyOF/CxB5PdcaoaXm4D4+Jvv",
      "include_colab_link": true
    },
    "kernelspec": {
      "name": "python3",
      "display_name": "Python 3"
    },
    "language_info": {
      "name": "python"
    },
    "accelerator": "GPU"
  },
  "cells": [
    {
      "cell_type": "markdown",
      "metadata": {
        "id": "view-in-github",
        "colab_type": "text"
      },
      "source": [
        "<a href=\"https://colab.research.google.com/github/muriarty1893/google_collab_checkpoint/blob/main/torch.ipynb\" target=\"_parent\"><img src=\"https://colab.research.google.com/assets/colab-badge.svg\" alt=\"Open In Colab\"/></a>"
      ]
    },
    {
      "cell_type": "code",
      "source": [
        "import pandas as pd\n",
        "import numpy as np\n",
        "import matplotlib.pyplot as plt\n",
        "import seaborn as sns\n",
        "import tensorflow\n",
        "\n",
        "df = pd.read_csv(\"turkey_car_market.csv\")"
      ],
      "metadata": {
        "id": "JK_ybfosMU4E"
      },
      "execution_count": null,
      "outputs": []
    },
    {
      "cell_type": "code",
      "source": [
        "df=df.drop([\"İlan Tarihi\",\"Arac Tip\",\"Kimden\",\"Renk\",\"Durum\",\"CCM\",\"Beygir Gucu\"],axis=1)"
      ],
      "metadata": {
        "id": "YGc0-d4zP9Ew"
      },
      "execution_count": null,
      "outputs": []
    },
    {
      "cell_type": "code",
      "source": [
        "df=pd.get_dummies(df,columns=[\"Marka\",\"Arac Tip Grubu\",\"Yakıt Turu\",\"Vites\",\"Kasa Tipi\"\t],drop_first=True)"
      ],
      "metadata": {
        "id": "NET42-hQQBZ7"
      },
      "execution_count": null,
      "outputs": []
    },
    {
      "cell_type": "code",
      "source": [
        "y=df[[\"Fiyat\"]]\n",
        "x=df.drop(\"Fiyat\",axis=1)"
      ],
      "metadata": {
        "id": "ja2Mc8CDQDhn"
      },
      "execution_count": null,
      "outputs": []
    },
    {
      "cell_type": "code",
      "source": [
        "from sklearn.linear_model import LinearRegression\n",
        "from sklearn.model_selection import train_test_split\n",
        "lg=LinearRegression()\n",
        "model=lg.fit(x,y)\n",
        "model.score(x,y)"
      ],
      "metadata": {
        "colab": {
          "base_uri": "https://localhost:8080/"
        },
        "id": "LPfaBhofQFrN",
        "outputId": "813c7678-ed1d-438d-d4d9-5084d24a5f28"
      },
      "execution_count": null,
      "outputs": [
        {
          "output_type": "execute_result",
          "data": {
            "text/plain": [
              "0.774766932818201"
            ]
          },
          "metadata": {},
          "execution_count": 8
        }
      ]
    },
    {
      "cell_type": "code",
      "source": [
        "x_train,x_test,y_train,y_test=train_test_split(x,y,random_state=17,test_size=0.7)"
      ],
      "metadata": {
        "id": "neWZlScgQIqQ"
      },
      "execution_count": null,
      "outputs": []
    },
    {
      "cell_type": "code",
      "source": [
        "lg=LinearRegression()\n",
        "model=lg.fit(x_train,y_train)\n",
        "model.score(x_test,y_test)"
      ],
      "metadata": {
        "colab": {
          "base_uri": "https://localhost:8080/"
        },
        "id": "6P3JodFKQMNC",
        "outputId": "d300c340-5e36-4e3c-e408-295a798e70b3"
      },
      "execution_count": null,
      "outputs": [
        {
          "output_type": "execute_result",
          "data": {
            "text/plain": [
              "0.5743517447770912"
            ]
          },
          "metadata": {},
          "execution_count": 10
        }
      ]
    },
    {
      "cell_type": "code",
      "source": [],
      "metadata": {
        "id": "m0GjUZnWQO_n"
      },
      "execution_count": null,
      "outputs": []
    }
  ]
}